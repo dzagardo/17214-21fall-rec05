{
  "nbformat": 4,
  "nbformat_minor": 0,
  "metadata": {
    "colab": {
      "provenance": [],
      "include_colab_link": true
    },
    "kernelspec": {
      "name": "python3",
      "display_name": "Python 3"
    },
    "language_info": {
      "name": "python"
    }
  },
  "cells": [
    {
      "cell_type": "markdown",
      "metadata": {
        "id": "view-in-github",
        "colab_type": "text"
      },
      "source": [
        "<a href=\"https://colab.research.google.com/github/dzagardo/17214-21fall-rec05/blob/main/Fairness_Recitation.ipynb\" target=\"_parent\"><img src=\"https://colab.research.google.com/assets/colab-badge.svg\" alt=\"Open In Colab\"/></a>"
      ]
    },
    {
      "cell_type": "markdown",
      "source": [
        "## Setup"
      ],
      "metadata": {
        "id": "iNV0hZS733ZP"
      }
    },
    {
      "cell_type": "code",
      "source": [],
      "metadata": {
        "id": "73yh6jhhVlF2"
      },
      "execution_count": null,
      "outputs": []
    },
    {
      "cell_type": "code",
      "execution_count": null,
      "metadata": {
        "colab": {
          "base_uri": "https://localhost:8080/"
        },
        "id": "oLf8bbVC9AlP",
        "outputId": "ee21ea68-0d85-4e6b-9caa-e3cfa47704da"
      },
      "outputs": [
        {
          "output_type": "stream",
          "name": "stdout",
          "text": [
            "Looking in indexes: https://pypi.org/simple, https://us-python.pkg.dev/colab-wheels/public/simple/\n",
            "Collecting aif360\n",
            "  Downloading aif360-0.5.0-py3-none-any.whl (214 kB)\n",
            "\u001b[K     |████████████████████████████████| 214 kB 8.9 MB/s \n",
            "\u001b[?25hRequirement already satisfied: scipy>=1.2.0 in /usr/local/lib/python3.7/dist-packages (from aif360) (1.7.3)\n",
            "Requirement already satisfied: matplotlib in /usr/local/lib/python3.7/dist-packages (from aif360) (3.2.2)\n",
            "Requirement already satisfied: numpy>=1.16 in /usr/local/lib/python3.7/dist-packages (from aif360) (1.21.6)\n",
            "Requirement already satisfied: scikit-learn>=1.0 in /usr/local/lib/python3.7/dist-packages (from aif360) (1.0.2)\n",
            "Requirement already satisfied: pandas>=0.24.0 in /usr/local/lib/python3.7/dist-packages (from aif360) (1.3.5)\n",
            "Requirement already satisfied: python-dateutil>=2.7.3 in /usr/local/lib/python3.7/dist-packages (from pandas>=0.24.0->aif360) (2.8.2)\n",
            "Requirement already satisfied: pytz>=2017.3 in /usr/local/lib/python3.7/dist-packages (from pandas>=0.24.0->aif360) (2022.6)\n",
            "Requirement already satisfied: six>=1.5 in /usr/local/lib/python3.7/dist-packages (from python-dateutil>=2.7.3->pandas>=0.24.0->aif360) (1.15.0)\n",
            "Requirement already satisfied: joblib>=0.11 in /usr/local/lib/python3.7/dist-packages (from scikit-learn>=1.0->aif360) (1.2.0)\n",
            "Requirement already satisfied: threadpoolctl>=2.0.0 in /usr/local/lib/python3.7/dist-packages (from scikit-learn>=1.0->aif360) (3.1.0)\n",
            "Requirement already satisfied: cycler>=0.10 in /usr/local/lib/python3.7/dist-packages (from matplotlib->aif360) (0.11.0)\n",
            "Requirement already satisfied: pyparsing!=2.0.4,!=2.1.2,!=2.1.6,>=2.0.1 in /usr/local/lib/python3.7/dist-packages (from matplotlib->aif360) (3.0.9)\n",
            "Requirement already satisfied: kiwisolver>=1.0.1 in /usr/local/lib/python3.7/dist-packages (from matplotlib->aif360) (1.4.4)\n",
            "Requirement already satisfied: typing-extensions in /usr/local/lib/python3.7/dist-packages (from kiwisolver>=1.0.1->matplotlib->aif360) (4.1.1)\n",
            "Installing collected packages: aif360\n",
            "Successfully installed aif360-0.5.0\n",
            "Looking in indexes: https://pypi.org/simple, https://us-python.pkg.dev/colab-wheels/public/simple/\n",
            "Requirement already satisfied: scikit-learn in /usr/local/lib/python3.7/dist-packages (1.0.2)\n",
            "Requirement already satisfied: numpy>=1.14.6 in /usr/local/lib/python3.7/dist-packages (from scikit-learn) (1.21.6)\n",
            "Requirement already satisfied: joblib>=0.11 in /usr/local/lib/python3.7/dist-packages (from scikit-learn) (1.2.0)\n",
            "Requirement already satisfied: scipy>=1.1.0 in /usr/local/lib/python3.7/dist-packages (from scikit-learn) (1.7.3)\n",
            "Requirement already satisfied: threadpoolctl>=2.0.0 in /usr/local/lib/python3.7/dist-packages (from scikit-learn) (3.1.0)\n"
          ]
        }
      ],
      "source": [
        "!pip install aif360\n",
        "!pip install --upgrade scikit-learn"
      ]
    },
    {
      "cell_type": "code",
      "source": [
        "import sklearn\n",
        "sklearn.__version__"
      ],
      "metadata": {
        "colab": {
          "base_uri": "https://localhost:8080/",
          "height": 35
        },
        "id": "oNxzgRgB9Sf7",
        "outputId": "35536f93-fafe-4242-9a16-70374a116998"
      },
      "execution_count": null,
      "outputs": [
        {
          "output_type": "execute_result",
          "data": {
            "text/plain": [
              "'1.0.2'"
            ],
            "application/vnd.google.colaboratory.intrinsic+json": {
              "type": "string"
            }
          },
          "metadata": {},
          "execution_count": 2
        }
      ]
    },
    {
      "cell_type": "code",
      "source": [
        "#Load the libraries\n",
        "import pandas as pd \n",
        "import numpy as np \n",
        "\n",
        "# For visualisation\n",
        "import seaborn as sns \n",
        "import matplotlib.pyplot as plt "
      ],
      "metadata": {
        "id": "iBSwz5i_9Ujh"
      },
      "execution_count": null,
      "outputs": []
    },
    {
      "cell_type": "markdown",
      "source": [
        "Download the dataset from: https://www.kaggle.com/datasets/kabure/german-credit-data-with-risk?resource=download"
      ],
      "metadata": {
        "id": "254-FlBxKENa"
      }
    },
    {
      "cell_type": "code",
      "source": [
        "df_credit = pd.read_csv(\"./german_credit_data.csv\",index_col=0)\n",
        "print(df_credit.info())"
      ],
      "metadata": {
        "colab": {
          "base_uri": "https://localhost:8080/"
        },
        "id": "TmltKYSQ9XjG",
        "outputId": "c2eb9214-bf6c-4419-ef73-6e0f278e0b1b"
      },
      "execution_count": null,
      "outputs": [
        {
          "output_type": "stream",
          "name": "stdout",
          "text": [
            "<class 'pandas.core.frame.DataFrame'>\n",
            "Int64Index: 1000 entries, 0 to 999\n",
            "Data columns (total 10 columns):\n",
            " #   Column            Non-Null Count  Dtype \n",
            "---  ------            --------------  ----- \n",
            " 0   Age               1000 non-null   int64 \n",
            " 1   Sex               1000 non-null   object\n",
            " 2   Job               1000 non-null   int64 \n",
            " 3   Housing           1000 non-null   object\n",
            " 4   Saving accounts   817 non-null    object\n",
            " 5   Checking account  606 non-null    object\n",
            " 6   Credit amount     1000 non-null   int64 \n",
            " 7   Duration          1000 non-null   int64 \n",
            " 8   Purpose           1000 non-null   object\n",
            " 9   Risk              1000 non-null   object\n",
            "dtypes: int64(4), object(6)\n",
            "memory usage: 85.9+ KB\n",
            "None\n"
          ]
        }
      ]
    },
    {
      "cell_type": "code",
      "source": [
        "df_credit.head()"
      ],
      "metadata": {
        "colab": {
          "base_uri": "https://localhost:8080/",
          "height": 267
        },
        "id": "wUwHBmsC-uFq",
        "outputId": "7c661412-6f6f-43ae-9191-af37182f2919"
      },
      "execution_count": null,
      "outputs": [
        {
          "output_type": "execute_result",
          "data": {
            "text/plain": [
              "   Age     Sex  Job Housing Saving accounts Checking account  Credit amount  \\\n",
              "0   67    male    2     own             NaN           little           1169   \n",
              "1   22  female    2     own          little         moderate           5951   \n",
              "2   49    male    1     own          little              NaN           2096   \n",
              "3   45    male    2    free          little           little           7882   \n",
              "4   53    male    2    free          little           little           4870   \n",
              "\n",
              "   Duration              Purpose  Risk  \n",
              "0         6             radio/TV  good  \n",
              "1        48             radio/TV   bad  \n",
              "2        12            education  good  \n",
              "3        42  furniture/equipment  good  \n",
              "4        24                  car   bad  "
            ],
            "text/html": [
              "\n",
              "  <div id=\"df-fa55d88c-b9c2-4647-ac17-0392129d08a6\">\n",
              "    <div class=\"colab-df-container\">\n",
              "      <div>\n",
              "<style scoped>\n",
              "    .dataframe tbody tr th:only-of-type {\n",
              "        vertical-align: middle;\n",
              "    }\n",
              "\n",
              "    .dataframe tbody tr th {\n",
              "        vertical-align: top;\n",
              "    }\n",
              "\n",
              "    .dataframe thead th {\n",
              "        text-align: right;\n",
              "    }\n",
              "</style>\n",
              "<table border=\"1\" class=\"dataframe\">\n",
              "  <thead>\n",
              "    <tr style=\"text-align: right;\">\n",
              "      <th></th>\n",
              "      <th>Age</th>\n",
              "      <th>Sex</th>\n",
              "      <th>Job</th>\n",
              "      <th>Housing</th>\n",
              "      <th>Saving accounts</th>\n",
              "      <th>Checking account</th>\n",
              "      <th>Credit amount</th>\n",
              "      <th>Duration</th>\n",
              "      <th>Purpose</th>\n",
              "      <th>Risk</th>\n",
              "    </tr>\n",
              "  </thead>\n",
              "  <tbody>\n",
              "    <tr>\n",
              "      <th>0</th>\n",
              "      <td>67</td>\n",
              "      <td>male</td>\n",
              "      <td>2</td>\n",
              "      <td>own</td>\n",
              "      <td>NaN</td>\n",
              "      <td>little</td>\n",
              "      <td>1169</td>\n",
              "      <td>6</td>\n",
              "      <td>radio/TV</td>\n",
              "      <td>good</td>\n",
              "    </tr>\n",
              "    <tr>\n",
              "      <th>1</th>\n",
              "      <td>22</td>\n",
              "      <td>female</td>\n",
              "      <td>2</td>\n",
              "      <td>own</td>\n",
              "      <td>little</td>\n",
              "      <td>moderate</td>\n",
              "      <td>5951</td>\n",
              "      <td>48</td>\n",
              "      <td>radio/TV</td>\n",
              "      <td>bad</td>\n",
              "    </tr>\n",
              "    <tr>\n",
              "      <th>2</th>\n",
              "      <td>49</td>\n",
              "      <td>male</td>\n",
              "      <td>1</td>\n",
              "      <td>own</td>\n",
              "      <td>little</td>\n",
              "      <td>NaN</td>\n",
              "      <td>2096</td>\n",
              "      <td>12</td>\n",
              "      <td>education</td>\n",
              "      <td>good</td>\n",
              "    </tr>\n",
              "    <tr>\n",
              "      <th>3</th>\n",
              "      <td>45</td>\n",
              "      <td>male</td>\n",
              "      <td>2</td>\n",
              "      <td>free</td>\n",
              "      <td>little</td>\n",
              "      <td>little</td>\n",
              "      <td>7882</td>\n",
              "      <td>42</td>\n",
              "      <td>furniture/equipment</td>\n",
              "      <td>good</td>\n",
              "    </tr>\n",
              "    <tr>\n",
              "      <th>4</th>\n",
              "      <td>53</td>\n",
              "      <td>male</td>\n",
              "      <td>2</td>\n",
              "      <td>free</td>\n",
              "      <td>little</td>\n",
              "      <td>little</td>\n",
              "      <td>4870</td>\n",
              "      <td>24</td>\n",
              "      <td>car</td>\n",
              "      <td>bad</td>\n",
              "    </tr>\n",
              "  </tbody>\n",
              "</table>\n",
              "</div>\n",
              "      <button class=\"colab-df-convert\" onclick=\"convertToInteractive('df-fa55d88c-b9c2-4647-ac17-0392129d08a6')\"\n",
              "              title=\"Convert this dataframe to an interactive table.\"\n",
              "              style=\"display:none;\">\n",
              "        \n",
              "  <svg xmlns=\"http://www.w3.org/2000/svg\" height=\"24px\"viewBox=\"0 0 24 24\"\n",
              "       width=\"24px\">\n",
              "    <path d=\"M0 0h24v24H0V0z\" fill=\"none\"/>\n",
              "    <path d=\"M18.56 5.44l.94 2.06.94-2.06 2.06-.94-2.06-.94-.94-2.06-.94 2.06-2.06.94zm-11 1L8.5 8.5l.94-2.06 2.06-.94-2.06-.94L8.5 2.5l-.94 2.06-2.06.94zm10 10l.94 2.06.94-2.06 2.06-.94-2.06-.94-.94-2.06-.94 2.06-2.06.94z\"/><path d=\"M17.41 7.96l-1.37-1.37c-.4-.4-.92-.59-1.43-.59-.52 0-1.04.2-1.43.59L10.3 9.45l-7.72 7.72c-.78.78-.78 2.05 0 2.83L4 21.41c.39.39.9.59 1.41.59.51 0 1.02-.2 1.41-.59l7.78-7.78 2.81-2.81c.8-.78.8-2.07 0-2.86zM5.41 20L4 18.59l7.72-7.72 1.47 1.35L5.41 20z\"/>\n",
              "  </svg>\n",
              "      </button>\n",
              "      \n",
              "  <style>\n",
              "    .colab-df-container {\n",
              "      display:flex;\n",
              "      flex-wrap:wrap;\n",
              "      gap: 12px;\n",
              "    }\n",
              "\n",
              "    .colab-df-convert {\n",
              "      background-color: #E8F0FE;\n",
              "      border: none;\n",
              "      border-radius: 50%;\n",
              "      cursor: pointer;\n",
              "      display: none;\n",
              "      fill: #1967D2;\n",
              "      height: 32px;\n",
              "      padding: 0 0 0 0;\n",
              "      width: 32px;\n",
              "    }\n",
              "\n",
              "    .colab-df-convert:hover {\n",
              "      background-color: #E2EBFA;\n",
              "      box-shadow: 0px 1px 2px rgba(60, 64, 67, 0.3), 0px 1px 3px 1px rgba(60, 64, 67, 0.15);\n",
              "      fill: #174EA6;\n",
              "    }\n",
              "\n",
              "    [theme=dark] .colab-df-convert {\n",
              "      background-color: #3B4455;\n",
              "      fill: #D2E3FC;\n",
              "    }\n",
              "\n",
              "    [theme=dark] .colab-df-convert:hover {\n",
              "      background-color: #434B5C;\n",
              "      box-shadow: 0px 1px 3px 1px rgba(0, 0, 0, 0.15);\n",
              "      filter: drop-shadow(0px 1px 2px rgba(0, 0, 0, 0.3));\n",
              "      fill: #FFFFFF;\n",
              "    }\n",
              "  </style>\n",
              "\n",
              "      <script>\n",
              "        const buttonEl =\n",
              "          document.querySelector('#df-fa55d88c-b9c2-4647-ac17-0392129d08a6 button.colab-df-convert');\n",
              "        buttonEl.style.display =\n",
              "          google.colab.kernel.accessAllowed ? 'block' : 'none';\n",
              "\n",
              "        async function convertToInteractive(key) {\n",
              "          const element = document.querySelector('#df-fa55d88c-b9c2-4647-ac17-0392129d08a6');\n",
              "          const dataTable =\n",
              "            await google.colab.kernel.invokeFunction('convertToInteractive',\n",
              "                                                     [key], {});\n",
              "          if (!dataTable) return;\n",
              "\n",
              "          const docLinkHtml = 'Like what you see? Visit the ' +\n",
              "            '<a target=\"_blank\" href=https://colab.research.google.com/notebooks/data_table.ipynb>data table notebook</a>'\n",
              "            + ' to learn more about interactive tables.';\n",
              "          element.innerHTML = '';\n",
              "          dataTable['output_type'] = 'display_data';\n",
              "          await google.colab.output.renderOutput(dataTable, element);\n",
              "          const docLink = document.createElement('div');\n",
              "          docLink.innerHTML = docLinkHtml;\n",
              "          element.appendChild(docLink);\n",
              "        }\n",
              "      </script>\n",
              "    </div>\n",
              "  </div>\n",
              "  "
            ]
          },
          "metadata": {},
          "execution_count": 5
        }
      ]
    },
    {
      "cell_type": "code",
      "source": [
        "print(\"Purpose : \",df_credit.Purpose.unique())\n",
        "print(\"Sex : \",df_credit.Sex.unique())\n",
        "print(\"Housing : \",df_credit.Housing.unique())\n",
        "print(\"Saving accounts : \",df_credit['Saving accounts'].unique())\n",
        "print(\"Risk : \",df_credit['Risk'].unique())\n",
        "print(\"Checking account : \",df_credit['Checking account'].unique())"
      ],
      "metadata": {
        "colab": {
          "base_uri": "https://localhost:8080/"
        },
        "id": "Gz0WEmZEBpLC",
        "outputId": "0a36d134-2f2d-4dee-ff7e-848dce79f1ca"
      },
      "execution_count": null,
      "outputs": [
        {
          "output_type": "stream",
          "name": "stdout",
          "text": [
            "Purpose :  ['radio/TV' 'education' 'furniture/equipment' 'car' 'business'\n",
            " 'domestic appliances' 'repairs' 'vacation/others']\n",
            "Sex :  ['male' 'female']\n",
            "Housing :  ['own' 'free' 'rent']\n",
            "Saving accounts :  [nan 'little' 'quite rich' 'rich' 'moderate']\n",
            "Risk :  ['good' 'bad']\n",
            "Checking account :  ['little' 'moderate' nan 'rich']\n"
          ]
        }
      ]
    },
    {
      "cell_type": "markdown",
      "source": [
        "## Sex and Age Distribution"
      ],
      "metadata": {
        "id": "fYlkYDFpBw-U"
      }
    },
    {
      "cell_type": "code",
      "source": [
        "# todo\n",
        "df_male = df_credit[df_credit[\"Sex\"] == '']\n",
        "# todo\n",
        "df_female = df_credit[df_credit[\"Sex\"] == '']\n",
        "\n",
        "fig, ax = plt.subplots(nrows=1, figsize=(16,10))\n",
        "plt.subplots_adjust(hspace = 0.4, top = 0.8)\n",
        "\n",
        "g2 = sns.countplot(x=\"Age\", data=df_credit, hue = \"Sex\")\n",
        "g2.set_title(\"Age Count by Sex\", fontsize=15)\n",
        "g2.set_xlabel(\"Age\")\n",
        "g2.set_ylabel(\"Count\")\n",
        "plt.show()"
      ],
      "metadata": {
        "colab": {
          "base_uri": "https://localhost:8080/",
          "height": 444
        },
        "id": "JX5T0WMiBtVo",
        "outputId": "86129514-ad32-4748-ef57-7e5a154bc220"
      },
      "execution_count": null,
      "outputs": [
        {
          "output_type": "display_data",
          "data": {
            "text/plain": [
              "<Figure size 1152x720 with 1 Axes>"
            ],
            "image/png": "[encoded data removed]"
          },
          "metadata": {
            "needs_background": "light"
          }
        }
      ]
    },
    {
      "cell_type": "code",
      "source": [
        "df_age = df_credit[\"Age\"]\n",
        "\n",
        "fig, ax = plt.subplots(nrows=1, figsize=(16,10))\n",
        "plt.subplots_adjust(hspace = 0.4, top = 0.8)\n",
        "\n",
        "g2 = sns.countplot(x=\"Sex\", data=df_credit, hue = \"Age\")\n",
        "g2.set_title(\"Age Distribution for Each Sex\", fontsize=15)\n",
        "g2.set_xlabel(\"Age\")\n",
        "g2.set_ylabel(\"Count\")\n",
        "g2.legend(loc=\"upper right\",bbox_to_anchor=(1.1, 1),)\n",
        "plt.show()"
      ],
      "metadata": {
        "colab": {
          "base_uri": "https://localhost:8080/",
          "height": 613
        },
        "id": "NHcaJfNMBzvJ",
        "outputId": "8e506bd4-d57c-47f4-8705-918abf1f8330"
      },
      "execution_count": null,
      "outputs": [
        {
          "output_type": "display_data",
          "data": {
            "text/plain": [
              "<Figure size 1152x720 with 1 Axes>"
            ],
            "image/png": "[encoded data removed]"
          },
          "metadata": {
            "needs_background": "light"
          }
        }
      ]
    },
    {
      "cell_type": "markdown",
      "source": [
        "## Data Preprocessing"
      ],
      "metadata": {
        "id": "z13lYR2zB75C"
      }
    },
    {
      "cell_type": "code",
      "source": [
        "#  Fill Missing Values\n",
        "df_credit['Saving accounts'] = df_credit['Saving accounts'].fillna('no_inf')\n",
        "df_credit['Checking account'] = df_credit['Checking account'].fillna('no_inf')\n",
        "\n",
        "#  Make age into buckets\n",
        "interval = (18, 25, 35, 60, 120)\n",
        "cats = ['Student', 'Young', 'Adult', 'Senior']\n",
        "df_credit[\"Age_cat\"] = pd.cut(df_credit.Age, interval, labels=cats)\n",
        "del df_credit['Age']\n",
        "\n",
        "#  Convert Categoricals into columns\n",
        "categorical_columns = [('Purpose','Purpose'),('Sex','Sex'),('Housing','Housing'),\n",
        "                       ('Saving accounts','Saving'),('Checking account','Checking'),\n",
        "                      ('Age_cat','Age_Cat')]\n",
        "\n",
        "for c in categorical_columns:\n",
        "    df_credit = df_credit.merge(\n",
        "                    pd.get_dummies(df_credit[c[0]], drop_first=True,prefix=c[1]),\n",
        "                    left_index=True,\n",
        "                    right_index=True\n",
        "    )\n",
        "    del df_credit[c[0]]\n",
        "\n",
        "#  Risk needs special handling\n",
        "df_credit = df_credit.merge(pd.get_dummies(df_credit.Risk, prefix='Risk'), left_index=True, right_index=True)\n",
        "del df_credit['Risk']\n",
        "\n",
        "# not interested in this column for this assignment\n",
        "del df_credit['Risk_good']\n",
        "df_credit.info()"
      ],
      "metadata": {
        "colab": {
          "base_uri": "https://localhost:8080/"
        },
        "id": "ZghS_2AHB32R",
        "outputId": "cd3bd438-f872-4a05-c801-6dedfd635d5f"
      },
      "execution_count": null,
      "outputs": [
        {
          "output_type": "stream",
          "name": "stdout",
          "text": [
            "<class 'pandas.core.frame.DataFrame'>\n",
            "Int64Index: 1000 entries, 0 to 999\n",
            "Data columns (total 24 columns):\n",
            " #   Column                       Non-Null Count  Dtype\n",
            "---  ------                       --------------  -----\n",
            " 0   Job                          1000 non-null   int64\n",
            " 1   Credit amount                1000 non-null   int64\n",
            " 2   Duration                     1000 non-null   int64\n",
            " 3   Purpose_car                  1000 non-null   uint8\n",
            " 4   Purpose_domestic appliances  1000 non-null   uint8\n",
            " 5   Purpose_education            1000 non-null   uint8\n",
            " 6   Purpose_furniture/equipment  1000 non-null   uint8\n",
            " 7   Purpose_radio/TV             1000 non-null   uint8\n",
            " 8   Purpose_repairs              1000 non-null   uint8\n",
            " 9   Purpose_vacation/others      1000 non-null   uint8\n",
            " 10  Sex_male                     1000 non-null   uint8\n",
            " 11  Housing_own                  1000 non-null   uint8\n",
            " 12  Housing_rent                 1000 non-null   uint8\n",
            " 13  Saving_moderate              1000 non-null   uint8\n",
            " 14  Saving_no_inf                1000 non-null   uint8\n",
            " 15  Saving_quite rich            1000 non-null   uint8\n",
            " 16  Saving_rich                  1000 non-null   uint8\n",
            " 17  Checking_moderate            1000 non-null   uint8\n",
            " 18  Checking_no_inf              1000 non-null   uint8\n",
            " 19  Checking_rich                1000 non-null   uint8\n",
            " 20  Age_Cat_Young                1000 non-null   uint8\n",
            " 21  Age_Cat_Adult                1000 non-null   uint8\n",
            " 22  Age_Cat_Senior               1000 non-null   uint8\n",
            " 23  Risk_bad                     1000 non-null   uint8\n",
            "dtypes: int64(3), uint8(21)\n",
            "memory usage: 84.0 KB\n"
          ]
        }
      ]
    },
    {
      "cell_type": "markdown",
      "source": [
        "## Task 1: Training Model"
      ],
      "metadata": {
        "id": "oyTB2NFBCH96"
      }
    },
    {
      "cell_type": "markdown",
      "source": [
        "### Random Forest Classifier"
      ],
      "metadata": {
        "id": "fUNl7lSaCLUh"
      }
    },
    {
      "cell_type": "code",
      "source": [
        "from sklearn.model_selection import train_test_split, KFold, cross_val_score\n",
        "from sklearn.metrics import accuracy_score, confusion_matrix, classification_report, fbeta_score, recall_score,precision_score,f1_score\n",
        "from sklearn.ensemble import RandomForestClassifier\n",
        "from sklearn.metrics import RocCurveDisplay"
      ],
      "metadata": {
        "id": "rNZucSBfCDHK"
      },
      "execution_count": null,
      "outputs": []
    },
    {
      "cell_type": "code",
      "source": [
        "y = df_credit[\"Risk_bad\"]\n",
        "X = df_credit.drop('Risk_bad', 1)\n",
        "X_train, X_test, y_train, y_test = train_test_split(X, y, test_size = 0.25, random_state=69)"
      ],
      "metadata": {
        "colab": {
          "base_uri": "https://localhost:8080/"
        },
        "id": "4kYf61-pCR_3",
        "outputId": "9cc57f63-e611-44cc-99bf-aaca676ce65d"
      },
      "execution_count": null,
      "outputs": [
        {
          "output_type": "stream",
          "name": "stderr",
          "text": [
            "/usr/local/lib/python3.7/dist-packages/ipykernel_launcher.py:2: FutureWarning: In a future version of pandas all arguments of DataFrame.drop except for the argument 'labels' will be keyword-only\n",
            "  \n"
          ]
        }
      ]
    },
    {
      "cell_type": "code",
      "source": [
        "rf = RandomForestClassifier(max_depth=None, max_features=10, n_estimators=15, random_state=420)\n",
        "# todo\n",
        "rf.fit(X_train, y_train)"
      ],
      "metadata": {
        "colab": {
          "base_uri": "https://localhost:8080/"
        },
        "id": "Ob20NGw5CUFG",
        "outputId": "6c280bea-8911-4272-a135-6023f769fc00"
      },
      "execution_count": null,
      "outputs": [
        {
          "output_type": "execute_result",
          "data": {
            "text/plain": [
              "RandomForestClassifier(max_features=10, n_estimators=15, random_state=420)"
            ]
          },
          "metadata": {},
          "execution_count": 13
        }
      ]
    },
    {
      "cell_type": "code",
      "source": [
        "# todo\n",
        "y_pred = rf.predict(X_test)\n",
        "print(\"Accuracy:\",str(accuracy_score(y_test,y_pred)))"
      ],
      "metadata": {
        "colab": {
          "base_uri": "https://localhost:8080/"
        },
        "id": "ZPJUrzK_CWq7",
        "outputId": "bae1a818-74a2-4de8-a65f-16e0ed3bdc7c"
      },
      "execution_count": null,
      "outputs": [
        {
          "output_type": "stream",
          "name": "stdout",
          "text": [
            "Accuracy: 0.712\n"
          ]
        }
      ]
    },
    {
      "cell_type": "code",
      "source": [
        "print(\"Confusion Matrix:\\n\", confusion_matrix(y_test, y_pred))"
      ],
      "metadata": {
        "colab": {
          "base_uri": "https://localhost:8080/"
        },
        "id": "PfXfMkpZCYoh",
        "outputId": "1f514f12-5fd9-48b0-e6e4-ebba86e70b4d"
      },
      "execution_count": null,
      "outputs": [
        {
          "output_type": "stream",
          "name": "stdout",
          "text": [
            "Confusion Matrix:\n",
            " [[147  35]\n",
            " [ 37  31]]\n"
          ]
        }
      ]
    },
    {
      "cell_type": "code",
      "source": [
        "plt.figure(figsize=((15,9)))\n",
        "ax = plt.gca()\n",
        "rfc_disp = RocCurveDisplay.from_estimator(rf, X_test, y_test, ax=ax, alpha=0.8)\n",
        "plt.show()"
      ],
      "metadata": {
        "colab": {
          "base_uri": "https://localhost:8080/",
          "height": 457
        },
        "id": "T5itWtHnCaGD",
        "outputId": "bf791cc6-435c-4cd3-d1f7-33c91a3b22d9"
      },
      "execution_count": null,
      "outputs": [
        {
          "output_type": "display_data",
          "data": {
            "text/plain": [
              "<Figure size 1080x648 with 1 Axes>"
            ],
            "image/png": "[encoded data removed]"
          },
          "metadata": {
            "needs_background": "light"
          }
        }
      ]
    },
    {
      "cell_type": "markdown",
      "source": [
        "## Task 2: Measuring Fairness"
      ],
      "metadata": {
        "id": "t76AEy71FKks"
      }
    },
    {
      "cell_type": "markdown",
      "source": [
        "### Anti-Classification - Gender\n"
      ],
      "metadata": {
        "id": "MZa6fPQBFPzB"
      }
    },
    {
      "cell_type": "code",
      "source": [
        "print(\"Original test set length\")\n",
        "print(len(X_test))"
      ],
      "metadata": {
        "colab": {
          "base_uri": "https://localhost:8080/"
        },
        "id": "HWk0x4mECceq",
        "outputId": "d473313c-c599-4d7a-f009-48def3e83cdb"
      },
      "execution_count": null,
      "outputs": [
        {
          "output_type": "stream",
          "name": "stdout",
          "text": [
            "Original test set length\n",
            "250\n"
          ]
        }
      ]
    },
    {
      "cell_type": "code",
      "source": [
        "males=X_test.copy()\n",
        "# todo - we want a dataframe where gender is set to male for all rows\n",
        "males=males.assign(Sex_male=1)\n",
        "print('All values of Sex_male in test dataset after considering gender is male: ',males['Sex_male'].unique())\n",
        "print('Length test dataset after considering gender is male:', len(males))"
      ],
      "metadata": {
        "colab": {
          "base_uri": "https://localhost:8080/"
        },
        "id": "ZrbrtWdrFWez",
        "outputId": "97ac5d85-7b7f-4cec-c3ed-4212985bc296"
      },
      "execution_count": null,
      "outputs": [
        {
          "output_type": "stream",
          "name": "stdout",
          "text": [
            "All values of Sex_male in test dataset after considering gender is male:  [1]\n",
            "Length test dataset after considering gender is male: 250\n"
          ]
        }
      ]
    },
    {
      "cell_type": "code",
      "source": [
        "females=X_test.copy()\n",
        "# todo - we want a dataframe where gender is set to female for all rows\n",
        "females=females.assign(Sex_male=0)\n",
        "print('All values of Sex_male in test dataset after considering gender is female: ',females['Sex_male'].unique())\n",
        "print('Length test dataset after considering gender is female:', len(males))"
      ],
      "metadata": {
        "colab": {
          "base_uri": "https://localhost:8080/"
        },
        "id": "8fIqdUgzFYlG",
        "outputId": "3f5cbaaf-4cd8-46b5-89ed-9cc6531b5d3f"
      },
      "execution_count": null,
      "outputs": [
        {
          "output_type": "stream",
          "name": "stdout",
          "text": [
            "All values of Sex_male in test dataset after considering gender is female:  [0]\n",
            "Length test dataset after considering gender is female: 250\n"
          ]
        }
      ]
    },
    {
      "cell_type": "code",
      "source": [
        "males_pred=rf.predict(males)\n",
        "females_pred=rf.predict(females)"
      ],
      "metadata": {
        "id": "eNsNKk8GFdir"
      },
      "execution_count": null,
      "outputs": []
    },
    {
      "cell_type": "code",
      "source": [
        "print(\"Accuracy when gender is considered male\")\n",
        "print(accuracy_score(y_test, males_pred))\n",
        "print(\"Accuracy when gender is considered female\")\n",
        "print(accuracy_score(y_test, females_pred))"
      ],
      "metadata": {
        "colab": {
          "base_uri": "https://localhost:8080/"
        },
        "id": "pXZtavAvFfsE",
        "outputId": "57b4ae18-7b1b-4ae5-f6c4-69b4c43f0e2c"
      },
      "execution_count": null,
      "outputs": [
        {
          "output_type": "stream",
          "name": "stdout",
          "text": [
            "Accuracy when gender is considered male\n",
            "0.716\n",
            "Accuracy when gender is considered female\n",
            "0.704\n"
          ]
        }
      ]
    },
    {
      "cell_type": "code",
      "source": [
        "flipped_gender=X_test.copy()\n",
        "flipped_gender['Sex_male']=flipped_gender['Sex_male'].replace({0:1, 1:0})"
      ],
      "metadata": {
        "id": "BL-rlCkfFhLe"
      },
      "execution_count": null,
      "outputs": []
    },
    {
      "cell_type": "code",
      "source": [
        "original_pred=rf.predict(X_test)\n",
        "flipped_gender_pred=rf.predict(flipped_gender)\n",
        "print(\"Accuracy of Original predictions\")\n",
        "print(accuracy_score(y_test, original_pred))\n",
        "print(\"Accuracy when Gender is flipped\")\n",
        "print(accuracy_score(y_test,flipped_gender_pred))"
      ],
      "metadata": {
        "colab": {
          "base_uri": "https://localhost:8080/"
        },
        "id": "RVZj6j-UFj_n",
        "outputId": "e7cd624c-eb41-4417-bf8e-ed527e0660e5"
      },
      "execution_count": null,
      "outputs": [
        {
          "output_type": "stream",
          "name": "stdout",
          "text": [
            "Accuracy of Original predictions\n",
            "0.712\n",
            "Accuracy when Gender is flipped\n",
            "0.708\n"
          ]
        }
      ]
    },
    {
      "cell_type": "code",
      "source": [
        "print(\"Confusion Matrix when gender is considered male\")\n",
        "print(confusion_matrix(y_test, males_pred))\n",
        "print(\"\\nConfusion Matrix when gender is considered female\")\n",
        "print(confusion_matrix(y_test, females_pred))\n",
        "print(\"\\nConfusion Matrix of original predictions\")\n",
        "print(confusion_matrix(y_test, original_pred))\n",
        "print(\"\\nConfusion Matrix when gender is flipped\")\n",
        "print(confusion_matrix(y_test, flipped_gender_pred))"
      ],
      "metadata": {
        "colab": {
          "base_uri": "https://localhost:8080/"
        },
        "id": "MxXo9u2tFlpP",
        "outputId": "3ea52b73-55d4-4126-aa7f-760a05a24c5f"
      },
      "execution_count": null,
      "outputs": [
        {
          "output_type": "stream",
          "name": "stdout",
          "text": [
            "Confusion Matrix when gender is considered male\n",
            "[[150  32]\n",
            " [ 39  29]]\n",
            "\n",
            "Confusion Matrix when gender is considered female\n",
            "[[143  39]\n",
            " [ 35  33]]\n",
            "\n",
            "Confusion Matrix of original predictions\n",
            "[[147  35]\n",
            " [ 37  31]]\n",
            "\n",
            "Confusion Matrix when gender is flipped\n",
            "[[146  36]\n",
            " [ 37  31]]\n"
          ]
        }
      ]
    },
    {
      "cell_type": "code",
      "source": [
        "print('ROC curve when gender is considered male')\n",
        "plt.figure(figsize=((15,9)))\n",
        "ax = plt.gca()\n",
        "rfc_disp = RocCurveDisplay.from_estimator(rf, males, y_test, ax=ax, alpha=0.8)\n",
        "plt.show()"
      ],
      "metadata": {
        "colab": {
          "base_uri": "https://localhost:8080/",
          "height": 474
        },
        "id": "CAlFHsEpFnlG",
        "outputId": "03bf7385-1e37-476b-b920-3ea841305447"
      },
      "execution_count": null,
      "outputs": [
        {
          "output_type": "stream",
          "name": "stdout",
          "text": [
            "ROC curve when gender is considered male\n"
          ]
        },
        {
          "output_type": "display_data",
          "data": {
            "text/plain": [
              "<Figure size 1080x648 with 1 Axes>"
            ],
            "image/png": "[encoded data removed]"
          },
          "metadata": {
            "needs_background": "light"
          }
        }
      ]
    },
    {
      "cell_type": "code",
      "source": [
        "print('ROC curve when gender is considered female')\n",
        "plt.figure(figsize=((15,9)))\n",
        "ax = plt.gca()\n",
        "rfc_disp = RocCurveDisplay.from_estimator(rf, females, y_test, ax=ax, alpha=0.8)\n",
        "plt.show()"
      ],
      "metadata": {
        "colab": {
          "base_uri": "https://localhost:8080/",
          "height": 474
        },
        "id": "kn7XNhQwFpSW",
        "outputId": "781217af-da27-4a15-cbe0-aebfd6ddddcd"
      },
      "execution_count": null,
      "outputs": [
        {
          "output_type": "stream",
          "name": "stdout",
          "text": [
            "ROC curve when gender is considered female\n"
          ]
        },
        {
          "output_type": "display_data",
          "data": {
            "text/plain": [
              "<Figure size 1080x648 with 1 Axes>"
            ],
            "image/png": "[encoded data removed]"
          },
          "metadata": {
            "needs_background": "light"
          }
        }
      ]
    },
    {
      "cell_type": "code",
      "source": [
        "print('ROC curve when gender is flipped')\n",
        "plt.figure(figsize=((15,9)))\n",
        "ax = plt.gca()\n",
        "rfc_disp = RocCurveDisplay.from_estimator(rf, flipped_gender, y_test, ax=ax, alpha=0.8)\n",
        "plt.show()"
      ],
      "metadata": {
        "colab": {
          "base_uri": "https://localhost:8080/",
          "height": 474
        },
        "id": "MUc2xQzxFrVt",
        "outputId": "4effbd9c-c0b7-4513-a295-cf4f70efd2aa"
      },
      "execution_count": null,
      "outputs": [
        {
          "output_type": "stream",
          "name": "stdout",
          "text": [
            "ROC curve when gender is flipped\n"
          ]
        },
        {
          "output_type": "display_data",
          "data": {
            "text/plain": [
              "<Figure size 1080x648 with 1 Axes>"
            ],
            "image/png": "[encoded data removed]"
          },
          "metadata": {
            "needs_background": "light"
          }
        }
      ]
    },
    {
      "cell_type": "code",
      "source": [
        "print(\"Total length of predictions: \",len(y_pred))\n",
        "print(\"Number of same predictions between when gender is considered male and female and predicted seperately: \" , sum(males_pred==females_pred))"
      ],
      "metadata": {
        "colab": {
          "base_uri": "https://localhost:8080/"
        },
        "id": "pFEjFQsMFtD9",
        "outputId": "128e656d-2517-47b8-949a-424b9cfccd4c"
      },
      "execution_count": null,
      "outputs": [
        {
          "output_type": "stream",
          "name": "stdout",
          "text": [
            "Total length of predictions:  250\n",
            "Number of same predictions between when gender is considered male and female and predicted seperately:  217\n"
          ]
        }
      ]
    },
    {
      "cell_type": "code",
      "source": [
        "print(\"Total length of predictions: \",len(y_pred))\n",
        "print(\"Number of same predictions between original predictions and when when gender is flipped: \" , sum(flipped_gender_pred==y_pred))"
      ],
      "metadata": {
        "colab": {
          "base_uri": "https://localhost:8080/"
        },
        "id": "LcC27ENiF1Qj",
        "outputId": "9c56eb54-3eb9-4b5e-a2f7-12737ba57613"
      },
      "execution_count": null,
      "outputs": [
        {
          "output_type": "stream",
          "name": "stdout",
          "text": [
            "Total length of predictions:  250\n",
            "Number of same predictions between original predictions and when when gender is flipped:  217\n"
          ]
        }
      ]
    },
    {
      "cell_type": "markdown",
      "source": [
        "### Independence - Gender"
      ],
      "metadata": {
        "id": "0z3UfN0xxZaJ"
      }
    },
    {
      "cell_type": "code",
      "source": [
        "df_credit.columns"
      ],
      "metadata": {
        "colab": {
          "base_uri": "https://localhost:8080/"
        },
        "id": "yUCHy5wNxZF1",
        "outputId": "64fa2517-1e35-412c-d5bd-879ec0c7096c"
      },
      "execution_count": null,
      "outputs": [
        {
          "output_type": "execute_result",
          "data": {
            "text/plain": [
              "Index(['Job', 'Credit amount', 'Duration', 'Purpose_car',\n",
              "       'Purpose_domestic appliances', 'Purpose_education',\n",
              "       'Purpose_furniture/equipment', 'Purpose_radio/TV', 'Purpose_repairs',\n",
              "       'Purpose_vacation/others', 'Sex_male', 'Housing_own', 'Housing_rent',\n",
              "       'Saving_moderate', 'Saving_no_inf', 'Saving_quite rich', 'Saving_rich',\n",
              "       'Checking_moderate', 'Checking_no_inf', 'Checking_rich',\n",
              "       'Age_Cat_Young', 'Age_Cat_Adult', 'Age_Cat_Senior', 'Risk_bad'],\n",
              "      dtype='object')"
            ]
          },
          "metadata": {},
          "execution_count": 38
        }
      ]
    },
    {
      "cell_type": "code",
      "source": [
        "print(\"Original test set length\")\n",
        "print(len(X_test))"
      ],
      "metadata": {
        "colab": {
          "base_uri": "https://localhost:8080/"
        },
        "id": "QmLKNyPKx_QS",
        "outputId": "e2b6dc39-30c6-4585-ebfc-2cca5f389ea3"
      },
      "execution_count": null,
      "outputs": [
        {
          "output_type": "stream",
          "name": "stdout",
          "text": [
            "Original test set length\n",
            "250\n"
          ]
        }
      ]
    },
    {
      "cell_type": "code",
      "source": [
        "males=X_test[X_test[\"Sex_male\"]==1]\n",
        "females=X_test[X_test[\"Sex_male\"]==0]"
      ],
      "metadata": {
        "id": "O2oYthmKyEIV"
      },
      "execution_count": null,
      "outputs": []
    },
    {
      "cell_type": "code",
      "source": [
        "print(\"Number of males in test set: \",len(males))\n",
        "print(\"Number of females in test set: \",len(females))\n",
        "males_pred = rf.predict(males)\n",
        "females_pred = rf.predict(females)"
      ],
      "metadata": {
        "colab": {
          "base_uri": "https://localhost:8080/"
        },
        "id": "iVtrflFEyG_c",
        "outputId": "716a5a60-ffb0-4184-83fb-1a4296fb0697"
      },
      "execution_count": null,
      "outputs": [
        {
          "output_type": "stream",
          "name": "stdout",
          "text": [
            "Number of males in test set:  182\n",
            "Number of females in test set:  68\n"
          ]
        }
      ]
    },
    {
      "cell_type": "code",
      "source": [
        "print(\"Probability of Y==1 given gender is male: \", sum(males_pred)/len(males_pred))\n",
        "print(\"Probability of Y==1 given gender is female: \", sum(females_pred)/len(females_pred))"
      ],
      "metadata": {
        "colab": {
          "base_uri": "https://localhost:8080/"
        },
        "id": "6LgwLDZRyJcv",
        "outputId": "f4e7f783-7e8b-499d-9c74-28cea3c546ab"
      },
      "execution_count": null,
      "outputs": [
        {
          "output_type": "stream",
          "name": "stdout",
          "text": [
            "Probability of Y==1 given gender is male:  0.22527472527472528\n",
            "Probability of Y==1 given gender is female:  0.36764705882352944\n"
          ]
        }
      ]
    },
    {
      "cell_type": "code",
      "source": [],
      "metadata": {
        "id": "MTnnwgv8XgNq"
      },
      "execution_count": null,
      "outputs": []
    },
    {
      "cell_type": "markdown",
      "source": [
        "### Separation - Gender"
      ],
      "metadata": {
        "id": "EMOcXkNlyRQ-"
      }
    },
    {
      "cell_type": "code",
      "source": [
        "df_credit.columns"
      ],
      "metadata": {
        "colab": {
          "base_uri": "https://localhost:8080/"
        },
        "id": "6ZvsPVOdyQz9",
        "outputId": "cb92b307-40da-44ba-9874-bad907f7dff9"
      },
      "execution_count": null,
      "outputs": [
        {
          "output_type": "execute_result",
          "data": {
            "text/plain": [
              "Index(['Job', 'Credit amount', 'Duration', 'Purpose_car',\n",
              "       'Purpose_domestic appliances', 'Purpose_education',\n",
              "       'Purpose_furniture/equipment', 'Purpose_radio/TV', 'Purpose_repairs',\n",
              "       'Purpose_vacation/others', 'Sex_male', 'Housing_own', 'Housing_rent',\n",
              "       'Saving_moderate', 'Saving_no_inf', 'Saving_quite rich', 'Saving_rich',\n",
              "       'Checking_moderate', 'Checking_no_inf', 'Checking_rich',\n",
              "       'Age_Cat_Young', 'Age_Cat_Adult', 'Age_Cat_Senior', 'Risk_bad'],\n",
              "      dtype='object')"
            ]
          },
          "metadata": {},
          "execution_count": 44
        }
      ]
    },
    {
      "cell_type": "code",
      "source": [
        "print(\"Original test set length\")\n",
        "print(len(X_test))"
      ],
      "metadata": {
        "colab": {
          "base_uri": "https://localhost:8080/"
        },
        "id": "E9DGO1mpyX7a",
        "outputId": "050a6ad5-e0f9-47ae-db78-6e4c72a9680b"
      },
      "execution_count": null,
      "outputs": [
        {
          "output_type": "stream",
          "name": "stdout",
          "text": [
            "Original test set length\n",
            "250\n"
          ]
        }
      ]
    },
    {
      "cell_type": "code",
      "source": [
        "test_with_labels=X_test.copy()\n",
        "test_with_labels=test_with_labels.assign(Risk_bad=y_test)\n",
        "test_with_labels.info()"
      ],
      "metadata": {
        "colab": {
          "base_uri": "https://localhost:8080/"
        },
        "id": "at-A2jsTyamQ",
        "outputId": "b63e97c7-3b67-47e7-886e-054edd8370be"
      },
      "execution_count": null,
      "outputs": [
        {
          "output_type": "stream",
          "name": "stdout",
          "text": [
            "<class 'pandas.core.frame.DataFrame'>\n",
            "Int64Index: 250 entries, 823 to 441\n",
            "Data columns (total 24 columns):\n",
            " #   Column                       Non-Null Count  Dtype\n",
            "---  ------                       --------------  -----\n",
            " 0   Job                          250 non-null    int64\n",
            " 1   Credit amount                250 non-null    int64\n",
            " 2   Duration                     250 non-null    int64\n",
            " 3   Purpose_car                  250 non-null    uint8\n",
            " 4   Purpose_domestic appliances  250 non-null    uint8\n",
            " 5   Purpose_education            250 non-null    uint8\n",
            " 6   Purpose_furniture/equipment  250 non-null    uint8\n",
            " 7   Purpose_radio/TV             250 non-null    uint8\n",
            " 8   Purpose_repairs              250 non-null    uint8\n",
            " 9   Purpose_vacation/others      250 non-null    uint8\n",
            " 10  Sex_male                     250 non-null    uint8\n",
            " 11  Housing_own                  250 non-null    uint8\n",
            " 12  Housing_rent                 250 non-null    uint8\n",
            " 13  Saving_moderate              250 non-null    uint8\n",
            " 14  Saving_no_inf                250 non-null    uint8\n",
            " 15  Saving_quite rich            250 non-null    uint8\n",
            " 16  Saving_rich                  250 non-null    uint8\n",
            " 17  Checking_moderate            250 non-null    uint8\n",
            " 18  Checking_no_inf              250 non-null    uint8\n",
            " 19  Checking_rich                250 non-null    uint8\n",
            " 20  Age_Cat_Young                250 non-null    uint8\n",
            " 21  Age_Cat_Adult                250 non-null    uint8\n",
            " 22  Age_Cat_Senior               250 non-null    uint8\n",
            " 23  Risk_bad                     250 non-null    uint8\n",
            "dtypes: int64(3), uint8(21)\n",
            "memory usage: 12.9 KB\n"
          ]
        }
      ]
    },
    {
      "cell_type": "code",
      "source": [
        "males=test_with_labels[test_with_labels[\"Sex_male\"]==1]\n",
        "females=test_with_labels[test_with_labels[\"Sex_male\"]==0]"
      ],
      "metadata": {
        "id": "wIaG1iIZyd3j"
      },
      "execution_count": null,
      "outputs": []
    },
    {
      "cell_type": "code",
      "source": [
        "print(\"Number of males in test set: \",len(males))\n",
        "print(\"Number of females in test set: \",len(females))"
      ],
      "metadata": {
        "colab": {
          "base_uri": "https://localhost:8080/"
        },
        "id": "Jz_l5kH_yujp",
        "outputId": "10d5b930-ea81-4a3e-cc06-ef60575fc29a"
      },
      "execution_count": null,
      "outputs": [
        {
          "output_type": "stream",
          "name": "stdout",
          "text": [
            "Number of males in test set:  182\n",
            "Number of females in test set:  68\n"
          ]
        }
      ]
    },
    {
      "cell_type": "code",
      "source": [
        "males_labels=males['Risk_bad']\n",
        "females_labels=females['Risk_bad']\n",
        "males=males.drop('Risk_bad', 1)\n",
        "females=females.drop(\"Risk_bad\",1)\n",
        "print(males.columns)\n",
        "print(females.columns)"
      ],
      "metadata": {
        "colab": {
          "base_uri": "https://localhost:8080/"
        },
        "id": "fsALaQFoywYO",
        "outputId": "284b261d-3354-4fdb-a551-4fa596292741"
      },
      "execution_count": null,
      "outputs": [
        {
          "output_type": "stream",
          "name": "stdout",
          "text": [
            "Index(['Job', 'Credit amount', 'Duration', 'Purpose_car',\n",
            "       'Purpose_domestic appliances', 'Purpose_education',\n",
            "       'Purpose_furniture/equipment', 'Purpose_radio/TV', 'Purpose_repairs',\n",
            "       'Purpose_vacation/others', 'Sex_male', 'Housing_own', 'Housing_rent',\n",
            "       'Saving_moderate', 'Saving_no_inf', 'Saving_quite rich', 'Saving_rich',\n",
            "       'Checking_moderate', 'Checking_no_inf', 'Checking_rich',\n",
            "       'Age_Cat_Young', 'Age_Cat_Adult', 'Age_Cat_Senior'],\n",
            "      dtype='object')\n",
            "Index(['Job', 'Credit amount', 'Duration', 'Purpose_car',\n",
            "       'Purpose_domestic appliances', 'Purpose_education',\n",
            "       'Purpose_furniture/equipment', 'Purpose_radio/TV', 'Purpose_repairs',\n",
            "       'Purpose_vacation/others', 'Sex_male', 'Housing_own', 'Housing_rent',\n",
            "       'Saving_moderate', 'Saving_no_inf', 'Saving_quite rich', 'Saving_rich',\n",
            "       'Checking_moderate', 'Checking_no_inf', 'Checking_rich',\n",
            "       'Age_Cat_Young', 'Age_Cat_Adult', 'Age_Cat_Senior'],\n",
            "      dtype='object')\n"
          ]
        },
        {
          "output_type": "stream",
          "name": "stderr",
          "text": [
            "/usr/local/lib/python3.7/dist-packages/ipykernel_launcher.py:3: FutureWarning: In a future version of pandas all arguments of DataFrame.drop except for the argument 'labels' will be keyword-only\n",
            "  This is separate from the ipykernel package so we can avoid doing imports until\n",
            "/usr/local/lib/python3.7/dist-packages/ipykernel_launcher.py:4: FutureWarning: In a future version of pandas all arguments of DataFrame.drop except for the argument 'labels' will be keyword-only\n",
            "  after removing the cwd from sys.path.\n"
          ]
        }
      ]
    },
    {
      "cell_type": "code",
      "source": [
        "males_pred=rf.predict(males)\n",
        "females_pred=rf.predict(females)"
      ],
      "metadata": {
        "id": "XmR_noiSyz07"
      },
      "execution_count": null,
      "outputs": []
    },
    {
      "cell_type": "code",
      "source": [
        "males_matrix=confusion_matrix(males_labels, males_pred)\n",
        "print(\"Confusion Matrix for males:\")\n",
        "print(males_matrix)\n",
        "print(\"\\nFalse Positive Rate for males: \", males_matrix[0][1]/(males_matrix[0][1]+males_matrix[1][1]))\n",
        "print(\"False Negative Rate for males: \", males_matrix[1][0]/(males_matrix[1][0]+males_matrix[0][0]))\n",
        "print(\"\\nPrecision Score for males: \", precision_score(males_labels, males_pred))\n",
        "print(\"Recall Score for males: \", recall_score(males_labels, males_pred))\n",
        "print(\"F1 Score for males: \", f1_score(males_labels, males_pred))"
      ],
      "metadata": {
        "colab": {
          "base_uri": "https://localhost:8080/"
        },
        "id": "kENEOKMqyerI",
        "outputId": "24f8a4d0-3c99-4be6-e4a2-56e8cdd204ac"
      },
      "execution_count": null,
      "outputs": [
        {
          "output_type": "stream",
          "name": "stdout",
          "text": [
            "Confusion Matrix for males:\n",
            "[[111  22]\n",
            " [ 30  19]]\n",
            "\n",
            "False Positive Rate for males:  0.5365853658536586\n",
            "False Negative Rate for males:  0.2127659574468085\n",
            "\n",
            "Precision Score for males:  0.4634146341463415\n",
            "Recall Score for males:  0.3877551020408163\n",
            "F1 Score for males:  0.4222222222222223\n"
          ]
        }
      ]
    },
    {
      "cell_type": "code",
      "source": [
        "females_matrix=confusion_matrix(females_labels, females_pred)\n",
        "print(\"Confusion Matrix for females:\")\n",
        "print(females_matrix)\n",
        "print(\"\\nFalse Positive Rate for females: \", females_matrix[0][1]/(females_matrix[0][1]+females_matrix[1][1]))\n",
        "print(\"False Negative Rate for females: \", females_matrix[1][0]/(females_matrix[1][0]+females_matrix[0][0]))\n",
        "print(\"\\nPrecision Score for females: \", precision_score(females_labels, females_pred))\n",
        "print(\"Recall Score for females: \", recall_score(females_labels, females_pred))\n",
        "print(\"F1 Score for females: \", f1_score(females_labels, females_pred))"
      ],
      "metadata": {
        "colab": {
          "base_uri": "https://localhost:8080/"
        },
        "id": "mlv-XfnQy3vn",
        "outputId": "0a6120b3-899d-497b-91e8-76f0157edc11"
      },
      "execution_count": null,
      "outputs": [
        {
          "output_type": "stream",
          "name": "stdout",
          "text": [
            "Confusion Matrix for females:\n",
            "[[36 13]\n",
            " [ 7 12]]\n",
            "\n",
            "False Positive Rate for females:  0.52\n",
            "False Negative Rate for females:  0.16279069767441862\n",
            "\n",
            "Precision Score for females:  0.48\n",
            "Recall Score for females:  0.631578947368421\n",
            "F1 Score for females:  0.5454545454545454\n"
          ]
        }
      ]
    },
    {
      "cell_type": "markdown",
      "source": [
        "## Task 3: Improve model fairness"
      ],
      "metadata": {
        "id": "GDiQtxiPHm2B"
      }
    },
    {
      "cell_type": "markdown",
      "source": [
        "### Anti-Classification - Gender\n",
        "For anti-classification we will make the model blind to the \"gender\" protected attribute. For this we will drop the \"Sex_male\" variable from our data and train a new classification model."
      ],
      "metadata": {
        "id": "U5G5-jSoHuTw"
      }
    },
    {
      "cell_type": "code",
      "source": [
        "X_train_3a=X_train.copy()\n",
        "X_test_3a=X_test.copy()"
      ],
      "metadata": {
        "id": "wyM925yHF8Gx"
      },
      "execution_count": null,
      "outputs": []
    },
    {
      "cell_type": "code",
      "source": [
        "print(X_train_3a.columns)\n",
        "print(X_test_3a.columns)"
      ],
      "metadata": {
        "colab": {
          "base_uri": "https://localhost:8080/"
        },
        "id": "ojGkP25rIFYB",
        "outputId": "432eb1ae-0360-4038-f6aa-6ec999ef26e8"
      },
      "execution_count": null,
      "outputs": [
        {
          "output_type": "stream",
          "name": "stdout",
          "text": [
            "Index(['Job', 'Credit amount', 'Duration', 'Purpose_car',\n",
            "       'Purpose_domestic appliances', 'Purpose_education',\n",
            "       'Purpose_furniture/equipment', 'Purpose_radio/TV', 'Purpose_repairs',\n",
            "       'Purpose_vacation/others', 'Sex_male', 'Housing_own', 'Housing_rent',\n",
            "       'Saving_moderate', 'Saving_no_inf', 'Saving_quite rich', 'Saving_rich',\n",
            "       'Checking_moderate', 'Checking_no_inf', 'Checking_rich',\n",
            "       'Age_Cat_Young', 'Age_Cat_Adult', 'Age_Cat_Senior'],\n",
            "      dtype='object')\n",
            "Index(['Job', 'Credit amount', 'Duration', 'Purpose_car',\n",
            "       'Purpose_domestic appliances', 'Purpose_education',\n",
            "       'Purpose_furniture/equipment', 'Purpose_radio/TV', 'Purpose_repairs',\n",
            "       'Purpose_vacation/others', 'Sex_male', 'Housing_own', 'Housing_rent',\n",
            "       'Saving_moderate', 'Saving_no_inf', 'Saving_quite rich', 'Saving_rich',\n",
            "       'Checking_moderate', 'Checking_no_inf', 'Checking_rich',\n",
            "       'Age_Cat_Young', 'Age_Cat_Adult', 'Age_Cat_Senior'],\n",
            "      dtype='object')\n"
          ]
        }
      ]
    },
    {
      "cell_type": "code",
      "source": [
        "X_train_3a=X_train_3a.drop(\"Sex_male\",1)\n",
        "X_test_3a=X_test_3a.drop(\"Sex_male\",1)"
      ],
      "metadata": {
        "colab": {
          "base_uri": "https://localhost:8080/"
        },
        "id": "t5gQwMZmIJCs",
        "outputId": "88023752-d154-4f65-8776-3a10451705eb"
      },
      "execution_count": null,
      "outputs": [
        {
          "output_type": "stream",
          "name": "stderr",
          "text": [
            "/usr/local/lib/python3.7/dist-packages/ipykernel_launcher.py:1: FutureWarning: In a future version of pandas all arguments of DataFrame.drop except for the argument 'labels' will be keyword-only\n",
            "  \"\"\"Entry point for launching an IPython kernel.\n",
            "/usr/local/lib/python3.7/dist-packages/ipykernel_launcher.py:2: FutureWarning: In a future version of pandas all arguments of DataFrame.drop except for the argument 'labels' will be keyword-only\n",
            "  \n"
          ]
        }
      ]
    },
    {
      "cell_type": "code",
      "source": [
        "rf_3a=RandomForestClassifier(max_depth=None, max_features=10, n_estimators=15, random_state=2)\n",
        "rf_3a.fit(X_train_3a,y_train)"
      ],
      "metadata": {
        "colab": {
          "base_uri": "https://localhost:8080/"
        },
        "id": "or4UNbsGHzmY",
        "outputId": "f0ec15ad-e16b-46b9-b064-1d13b8754f65"
      },
      "execution_count": null,
      "outputs": [
        {
          "output_type": "execute_result",
          "data": {
            "text/plain": [
              "RandomForestClassifier(max_features=10, n_estimators=15, random_state=2)"
            ]
          },
          "metadata": {},
          "execution_count": 56
        }
      ]
    },
    {
      "cell_type": "code",
      "source": [
        "pred_3a=rf_3a.predict(X_test_3a)"
      ],
      "metadata": {
        "id": "QLwNZFOZH1tW"
      },
      "execution_count": null,
      "outputs": []
    },
    {
      "cell_type": "code",
      "source": [
        "print('Original Accuracy of model:', accuracy_score(y_test,y_pred))\n",
        "print('Accuracy of fairer model:', accuracy_score(y_test,pred_3a))"
      ],
      "metadata": {
        "colab": {
          "base_uri": "https://localhost:8080/"
        },
        "id": "rGwubO0wH3Pd",
        "outputId": "17f65c68-fdbd-4d31-a0be-3e5d0879199a"
      },
      "execution_count": null,
      "outputs": [
        {
          "output_type": "stream",
          "name": "stdout",
          "text": [
            "Original Accuracy of model: 0.712\n",
            "Accuracy of fairer model: 0.712\n"
          ]
        }
      ]
    },
    {
      "cell_type": "code",
      "source": [
        "print(\"Confusion Matrix of original model:\\n\", confusion_matrix(y_test, y_pred))\n",
        "print(\"Confusion Matrix of fairer model:\\n\", confusion_matrix(y_test, pred_3a))"
      ],
      "metadata": {
        "colab": {
          "base_uri": "https://localhost:8080/"
        },
        "id": "7fGrMZtrH5d5",
        "outputId": "4e703d22-716d-4304-d53b-d97b093a3657"
      },
      "execution_count": null,
      "outputs": [
        {
          "output_type": "stream",
          "name": "stdout",
          "text": [
            "Confusion Matrix of original model:\n",
            " [[147  35]\n",
            " [ 37  31]]\n",
            "Confusion Matrix of fairer model:\n",
            " [[146  36]\n",
            " [ 36  32]]\n"
          ]
        }
      ]
    },
    {
      "cell_type": "code",
      "source": [
        "plt.figure(figsize=((15,9)))\n",
        "ax = plt.gca()\n",
        "rfc_disp = RocCurveDisplay.from_estimator(rf_3a, X_test_3a, y_test, ax=ax, alpha=0.8)\n",
        "plt.show()"
      ],
      "metadata": {
        "colab": {
          "base_uri": "https://localhost:8080/",
          "height": 571
        },
        "id": "4ed3penTIPRQ",
        "outputId": "f20b6130-eacc-47b3-faa3-152fa097b68f"
      },
      "execution_count": null,
      "outputs": [
        {
          "output_type": "display_data",
          "data": {
            "text/plain": [
              "<Figure size 1080x648 with 1 Axes>"
            ],
            "image/png": "[encoded data removed]"
          },
          "metadata": {
            "needs_background": "light"
          }
        }
      ]
    },
    {
      "cell_type": "code",
      "source": [],
      "metadata": {
        "id": "B872PnYzIRmP"
      },
      "execution_count": null,
      "outputs": []
    },
    {
      "cell_type": "markdown",
      "source": [
        "### Independence - Gender\n",
        "We will use predict_proba and change the threshold for classification. Since we saw that females had a higher probability of Y==1 (getting the label as high risk) we will reduce the threshold for Sex_male=0"
      ],
      "metadata": {
        "id": "4T40pAJwzgh5"
      }
    },
    {
      "cell_type": "code",
      "source": [
        "males=X_test[X_test[\"Sex_male\"]==1]\n",
        "females=X_test[X_test[\"Sex_male\"]==0]"
      ],
      "metadata": {
        "id": "u1xZC-E2zjH0"
      },
      "execution_count": null,
      "outputs": []
    },
    {
      "cell_type": "code",
      "source": [
        "print(\"Number of males in test set: \",len(males))\n",
        "print(\"Number of females in test set: \",len(females))\n",
        "males_pred_proba = rf.predict_proba(males)\n",
        "females_pred_proba = rf.predict_proba(females)"
      ],
      "metadata": {
        "colab": {
          "base_uri": "https://localhost:8080/"
        },
        "id": "t1kUYixHzkT4",
        "outputId": "03bd2568-b445-4e58-88f6-ae4030d70d05"
      },
      "execution_count": null,
      "outputs": [
        {
          "output_type": "stream",
          "name": "stdout",
          "text": [
            "Number of males in test set:  182\n",
            "Number of females in test set:  68\n"
          ]
        }
      ]
    },
    {
      "cell_type": "code",
      "source": [
        "males_pred = males_pred_proba[:,0] < 0.5\n",
        "females_pred = females_pred_proba[:,0] < 0.45"
      ],
      "metadata": {
        "id": "d3ma3HdIzlk2"
      },
      "execution_count": null,
      "outputs": []
    },
    {
      "cell_type": "code",
      "source": [
        "print(\"Probability of Y==1 given gender is male: \", sum(males_pred)/len(males_pred))\n",
        "print(\"Probability of Y==1 given gender is female: \", sum(females_pred)/len(females_pred))"
      ],
      "metadata": {
        "colab": {
          "base_uri": "https://localhost:8080/"
        },
        "id": "vQ2INQ_rzm_U",
        "outputId": "3631574c-201d-452e-cc8a-8bf7ba3d0974"
      },
      "execution_count": null,
      "outputs": [
        {
          "output_type": "stream",
          "name": "stdout",
          "text": [
            "Probability of Y==1 given gender is male:  0.22527472527472528\n",
            "Probability of Y==1 given gender is female:  0.25\n"
          ]
        }
      ]
    },
    {
      "cell_type": "code",
      "source": [
        "male_accuracy=accuracy_score(males_labels,males_pred)\n",
        "female_accuracy=accuracy_score(females_labels,females_pred)\n",
        "print(\"Accuracy for males: \",male_accuracy)\n",
        "print(\"Accuracy for females: \",female_accuracy)\n",
        "\n",
        "print('Original model accuracy:', accuracy_score(y_test,y_pred))\n",
        "fair_model_accuracy=(len(males_labels)*male_accuracy +len(females_labels)*female_accuracy)/len(y_test)\n",
        "print(\"Fairer model accuracy: \", fair_model_accuracy)"
      ],
      "metadata": {
        "colab": {
          "base_uri": "https://localhost:8080/"
        },
        "id": "aKWjZN5pzvbb",
        "outputId": "f5f55012-4c7e-45e5-a928-8837b8a3b0fa"
      },
      "execution_count": null,
      "outputs": [
        {
          "output_type": "stream",
          "name": "stdout",
          "text": [
            "Accuracy for males:  0.7142857142857143\n",
            "Accuracy for females:  0.7058823529411765\n",
            "Original model accuracy: 0.712\n",
            "Fairer model accuracy:  0.712\n"
          ]
        }
      ]
    },
    {
      "cell_type": "code",
      "source": [
        "print(\"Confusion Matrix for males:\\n\", confusion_matrix(males_labels,males_pred))\n",
        "print(\"\\nConfusion Matrix for females:\\n\", confusion_matrix(females_labels,females_pred))"
      ],
      "metadata": {
        "colab": {
          "base_uri": "https://localhost:8080/"
        },
        "id": "Cpi6JM9kzxXJ",
        "outputId": "7420e8f0-cf40-4555-8d7b-4b90139d9a76"
      },
      "execution_count": null,
      "outputs": [
        {
          "output_type": "stream",
          "name": "stdout",
          "text": [
            "Confusion Matrix for males:\n",
            " [[111  22]\n",
            " [ 30  19]]\n",
            "\n",
            "Confusion Matrix for females:\n",
            " [[40  9]\n",
            " [11  8]]\n"
          ]
        }
      ]
    },
    {
      "cell_type": "code",
      "source": [],
      "metadata": {
        "id": "nDnOvA4_Yz4T"
      },
      "execution_count": null,
      "outputs": []
    },
    {
      "cell_type": "markdown",
      "source": [
        "### Separation - Gender\n",
        "We will employ a similar staregy as the last independence and alter the thresholds. For gender we see that the males have a higher False negative rate (Y==0) than females. This is consistent with out previous finding that females are predicted to be at higher risk than males. Hence here we can either decrease the threshold for females or increase the threshold for males. We reduce the threshold for females."
      ],
      "metadata": {
        "id": "NMuWvPvoz659"
      }
    },
    {
      "cell_type": "code",
      "source": [
        "males=X_test[X_test[\"Sex_male\"]==1]\n",
        "females=X_test[X_test[\"Sex_male\"]==0]"
      ],
      "metadata": {
        "id": "Qzbmhm1Iz5Xo"
      },
      "execution_count": null,
      "outputs": []
    },
    {
      "cell_type": "code",
      "source": [
        "print(\"Number of males in test set: \",len(males))\n",
        "print(\"Number of females in test set: \",len(females))\n",
        "males_pred_proba = rf.predict_proba(males)\n",
        "females_pred_proba = rf.predict_proba(females)"
      ],
      "metadata": {
        "colab": {
          "base_uri": "https://localhost:8080/"
        },
        "id": "4CkDWDqg0UTu",
        "outputId": "6aaaef2c-db96-47f4-adc5-0d7aee2697ca"
      },
      "execution_count": null,
      "outputs": [
        {
          "output_type": "stream",
          "name": "stdout",
          "text": [
            "Number of males in test set:  182\n",
            "Number of females in test set:  68\n"
          ]
        }
      ]
    },
    {
      "cell_type": "code",
      "source": [
        "males_pred = males_pred_proba[:,0] < 0.5\n",
        "females_pred = females_pred_proba[:,0] < 0.45"
      ],
      "metadata": {
        "id": "kTAcDd6G0VeM"
      },
      "execution_count": null,
      "outputs": []
    },
    {
      "cell_type": "code",
      "source": [
        "males_matrix=confusion_matrix(males_labels, males_pred)\n",
        "print(\"Confusion Matrix for males:\")\n",
        "print(males_matrix)\n",
        "print(\"\\nFalse Positive Rate for males: \", males_matrix[0][1]/(males_matrix[0][1]+males_matrix[1][1]))\n",
        "print(\"False Negative Rate for males: \", males_matrix[1][0]/(males_matrix[1][0]+males_matrix[0][0]))\n",
        "print(\"\\nPrecision Score for males: \", precision_score(males_labels, males_pred))\n",
        "print(\"Recall Score for males: \", recall_score(males_labels, males_pred))\n",
        "print(\"F1 Score for males: \", f1_score(males_labels, males_pred))"
      ],
      "metadata": {
        "colab": {
          "base_uri": "https://localhost:8080/"
        },
        "id": "ae0OXQzU0XUL",
        "outputId": "f03fdd85-0eb8-41b3-ca25-6ae1e65edefe"
      },
      "execution_count": null,
      "outputs": [
        {
          "output_type": "stream",
          "name": "stdout",
          "text": [
            "Confusion Matrix for males:\n",
            "[[111  22]\n",
            " [ 30  19]]\n",
            "\n",
            "False Positive Rate for males:  0.5365853658536586\n",
            "False Negative Rate for males:  0.2127659574468085\n",
            "\n",
            "Precision Score for males:  0.4634146341463415\n",
            "Recall Score for males:  0.3877551020408163\n",
            "F1 Score for males:  0.4222222222222223\n"
          ]
        }
      ]
    },
    {
      "cell_type": "code",
      "source": [
        "females_matrix=confusion_matrix(females_labels, females_pred)\n",
        "print(\"Confusion Matrix for females:\")\n",
        "print(females_matrix)\n",
        "print(\"\\nFalse Positive Rate for females: \", females_matrix[0][1]/(females_matrix[0][1]+females_matrix[1][1]))\n",
        "print(\"False Negative Rate for females: \", females_matrix[1][0]/(females_matrix[1][0]+females_matrix[0][0]))\n",
        "print(\"\\nPrecision Score for females: \", precision_score(females_labels, females_pred))\n",
        "print(\"Recall Score for females: \", recall_score(females_labels, females_pred))\n",
        "print(\"F1 Score for females: \", f1_score(females_labels, females_pred))"
      ],
      "metadata": {
        "colab": {
          "base_uri": "https://localhost:8080/"
        },
        "id": "tikhwWCI0Y3P",
        "outputId": "f32f6a84-4494-4f45-fe4a-e9e9524bc3d8"
      },
      "execution_count": null,
      "outputs": [
        {
          "output_type": "stream",
          "name": "stdout",
          "text": [
            "Confusion Matrix for females:\n",
            "[[40  9]\n",
            " [11  8]]\n",
            "\n",
            "False Positive Rate for females:  0.5294117647058824\n",
            "False Negative Rate for females:  0.21568627450980393\n",
            "\n",
            "Precision Score for females:  0.47058823529411764\n",
            "Recall Score for females:  0.42105263157894735\n",
            "F1 Score for females:  0.4444444444444444\n"
          ]
        }
      ]
    },
    {
      "cell_type": "markdown",
      "source": [
        "Now we can see that we are getting almost similar True positive rate and false positive rate for males and females.While this model is fair, the overall FNR has increase. So,now instead of increasing the FNR of females we will try to reduce the FNR of males."
      ],
      "metadata": {
        "id": "uFH_sHF00c45"
      }
    },
    {
      "cell_type": "code",
      "source": [
        "males_pred = males_pred_proba[:,0] < 0.65\n",
        "females_pred = females_pred_proba[:,0] < 0.5"
      ],
      "metadata": {
        "id": "LMT_wx_40ari"
      },
      "execution_count": null,
      "outputs": []
    },
    {
      "cell_type": "code",
      "source": [
        "males_matrix=confusion_matrix(males_labels, males_pred)\n",
        "print(\"Confusion Matrix for males:\")\n",
        "print(males_matrix)\n",
        "print(\"\\nFalse Positive Rate for males: \", males_matrix[0][1]/(males_matrix[0][1]+males_matrix[1][1]))\n",
        "print(\"False Negative Rate for males: \", males_matrix[1][0]/(males_matrix[1][0]+males_matrix[0][0]))\n",
        "print(\"\\nPrecision Score for males: \", precision_score(males_labels, males_pred))\n",
        "print(\"Recall Score for males: \", recall_score(males_labels, males_pred))\n",
        "print(\"F1 Score for males: \", f1_score(males_labels, males_pred))"
      ],
      "metadata": {
        "colab": {
          "base_uri": "https://localhost:8080/"
        },
        "id": "lmBRn_dE0fiD",
        "outputId": "1d0f9fad-8537-4f31-b088-a6e58f8bb863"
      },
      "execution_count": null,
      "outputs": [
        {
          "output_type": "stream",
          "name": "stdout",
          "text": [
            "Confusion Matrix for males:\n",
            "[[90 43]\n",
            " [17 32]]\n",
            "\n",
            "False Positive Rate for males:  0.5733333333333334\n",
            "False Negative Rate for males:  0.1588785046728972\n",
            "\n",
            "Precision Score for males:  0.4266666666666667\n",
            "Recall Score for males:  0.6530612244897959\n",
            "F1 Score for males:  0.5161290322580645\n"
          ]
        }
      ]
    },
    {
      "cell_type": "code",
      "source": [
        "females_matrix=confusion_matrix(females_labels, females_pred)\n",
        "print(\"Confusion Matrix for females:\")\n",
        "print(females_matrix)\n",
        "print(\"\\nFalse Positive Rate for females: \", females_matrix[0][1]/(females_matrix[0][1]+females_matrix[1][1]))\n",
        "print(\"False Negative Rate for females: \", females_matrix[1][0]/(females_matrix[1][0]+females_matrix[0][0]))\n",
        "print(\"\\nPrecision Score for females: \", precision_score(females_labels, females_pred))\n",
        "print(\"Recall Score for females: \", recall_score(females_labels, females_pred))\n",
        "print(\"F1 Score for females: \", f1_score(females_labels, females_pred))"
      ],
      "metadata": {
        "colab": {
          "base_uri": "https://localhost:8080/"
        },
        "id": "ewy5T_3W0hFr",
        "outputId": "3bfc3010-5cab-4039-c965-d3f116007caf"
      },
      "execution_count": null,
      "outputs": [
        {
          "output_type": "stream",
          "name": "stdout",
          "text": [
            "Confusion Matrix for females:\n",
            "[[36 13]\n",
            " [ 7 12]]\n",
            "\n",
            "False Positive Rate for females:  0.52\n",
            "False Negative Rate for females:  0.16279069767441862\n",
            "\n",
            "Precision Score for females:  0.48\n",
            "Recall Score for females:  0.631578947368421\n",
            "F1 Score for females:  0.5454545454545454\n"
          ]
        }
      ]
    },
    {
      "cell_type": "markdown",
      "source": [
        "We see now that the FNR for males and females is almost same but the FPR rate for males is higher. This is a less fair model but might be more helpful as there are less false negatives (people being deemed high risk when they are not)."
      ],
      "metadata": {
        "id": "lGnqKUDp0sBW"
      }
    },
    {
      "cell_type": "markdown",
      "source": [
        "### Using IBM's AIF 360 \n",
        "This extensible open source toolkit can help you examine, report, and mitigate discrimination and bias in machine learning models throughout the AI application lifecycle.\n",
        "To use this demo, please download the following files:\n",
        "\n",
        "\thttps://archive.ics.uci.edu/ml/machine-learning-databases/statlog/german/german.data\n",
        "\thttps://archive.ics.uci.edu/ml/machine-learning-databases/statlog/german/german.doc\n",
        "\n",
        "and place them, as-is, in the folder:\n",
        "\n",
        "\t/usr/local/lib/python3.7/dist-packages/aif360/data/raw/german"
      ],
      "metadata": {
        "id": "fci3Vklg38SW"
      }
    },
    {
      "cell_type": "code",
      "source": [
        "# Load all necessary packages\n",
        "import sys\n",
        "sys.path.insert(1, \"../\")  \n",
        "import numpy as np\n",
        "np.random.seed(0)\n",
        "\n",
        "from aif360.datasets import GermanDataset\n",
        "from aif360.metrics import BinaryLabelDatasetMetric\n",
        "from aif360.algorithms.preprocessing import Reweighing"
      ],
      "metadata": {
        "id": "3-MoQNXx4c3c"
      },
      "execution_count": null,
      "outputs": []
    },
    {
      "cell_type": "code",
      "source": [
        "dataset_orig = GermanDataset(\n",
        "    protected_attribute_names=['age'],           # this dataset also contains protected\n",
        "                                                 # attribute for \"sex\" which we do not\n",
        "                                                 # consider in this evaluation\n",
        "    privileged_classes=[lambda x: x >= 25],      # age >=25 is considered privileged\n",
        "    features_to_drop=['personal_status', 'sex'] # ignore sex-related attributes\n",
        ")\n",
        "\n",
        "dataset_orig_train, dataset_orig_test = dataset_orig.split([0.7], shuffle=True)\n",
        "\n",
        "privileged_groups = [{'age': 1}]\n",
        "unprivileged_groups = [{'age': 0}]"
      ],
      "metadata": {
        "id": "a2wwhv644wO_"
      },
      "execution_count": null,
      "outputs": []
    },
    {
      "cell_type": "code",
      "source": [
        "metric_orig_train = BinaryLabelDatasetMetric(dataset_orig_train, \n",
        "                                             unprivileged_groups=unprivileged_groups,\n",
        "                                             privileged_groups=privileged_groups)\n",
        "\n",
        "print(\"Difference in mean outcomes between unprivileged and privileged groups = %f\" % metric_orig_train.mean_difference())\n"
      ],
      "metadata": {
        "colab": {
          "base_uri": "https://localhost:8080/"
        },
        "id": "elFFUjip5B-g",
        "outputId": "77b11025-8e18-4db7-a6f9-db421c1a7c7a"
      },
      "execution_count": null,
      "outputs": [
        {
          "output_type": "stream",
          "name": "stdout",
          "text": [
            "Difference in mean outcomes between unprivileged and privileged groups = -0.169905\n"
          ]
        }
      ]
    },
    {
      "cell_type": "markdown",
      "source": [
        "Step 4 Mitigate bias by transforming the original dataset\n"
      ],
      "metadata": {
        "id": "Q0T22Cy55vJz"
      }
    },
    {
      "cell_type": "code",
      "source": [
        "RW = Reweighing(unprivileged_groups=unprivileged_groups,\n",
        "                privileged_groups=privileged_groups)\n",
        "dataset_transf_train = RW.fit_transform(dataset_orig_train)"
      ],
      "metadata": {
        "id": "codn9jke5oGN"
      },
      "execution_count": null,
      "outputs": []
    },
    {
      "cell_type": "markdown",
      "source": [
        "Compute fairness metric on transformed dataset"
      ],
      "metadata": {
        "id": "ItbXelfJ51ez"
      }
    },
    {
      "cell_type": "code",
      "source": [
        "metric_transf_train = BinaryLabelDatasetMetric(dataset_transf_train, \n",
        "                                               unprivileged_groups=unprivileged_groups,\n",
        "                                               privileged_groups=privileged_groups)\n",
        "\n",
        "print(\"Difference in mean outcomes between unprivileged and privileged groups = %f\" % metric_transf_train.mean_difference())\n"
      ],
      "metadata": {
        "colab": {
          "base_uri": "https://localhost:8080/"
        },
        "id": "2ucIjK4Q5zSK",
        "outputId": "bf36b6bd-144d-42e8-b7e4-091d4a076a27"
      },
      "execution_count": null,
      "outputs": [
        {
          "output_type": "stream",
          "name": "stdout",
          "text": [
            "Difference in mean outcomes between unprivileged and privileged groups = 0.000000\n"
          ]
        }
      ]
    }
  ]
}